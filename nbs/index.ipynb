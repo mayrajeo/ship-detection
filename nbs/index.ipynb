{
 "cells": [
  {
   "cell_type": "raw",
   "id": "5bd58451",
   "metadata": {},
   "source": [
    "---\n",
    "title: \"Detecting marine vessels from Sentinel-2 imagery using YOLOv8\"\n",
    "author: \"Janne Mäyrä\"\n",
    "date: last-modified\n",
    "format:\n",
    "  html:\n",
    "    code-fold: true\n",
    "    toc: false\n",
    "    toc-depth: 2\n",
    "    number-sections: false\n",
    "    smooth-scroll: true\n",
    "---"
   ]
  },
  {
   "cell_type": "markdown",
   "id": "3e9c2999-5237-4d8f-8454-cd01023cc3b6",
   "metadata": {},
   "source": [
    "# Abstract\n",
    "\n",
    "> Indication of pressures caused by human activities at sea is needed in estimating their effect to marine habitats and in planning and management of existing and future marine protected areas (MPAs). Pressures caused by commercial maritime traffic can be quantified and localized via their automatic identification system (AIS), whereas the quantity and occurrence of leisure boats remain largely unknown as AIS is not required in smaller vessels. Yet, small vessels often move in shallower areas and cause disturbance to marine habitats by anchoring, resuspension of suspended sediment due to propeller currents, coastal erosion by boat wakes and underwater and above-water noise. In addition, grey water, harmful substances from antifouling paints, and litter, may be introduced to sea areas via leisure boating. To identify and quantify maritime traffic including smaller vessels without AIS, we used YOLOv8, a state-of-the-art object detection model, for detecting marine vessels from openly available Sentinel-2 imagery.\n",
    "> \n",
    "> We selected five different locations from the Finnish Coast and manually annotated marine vessels from these areas to use as the training and validation data. For each location, we used three separate acquisitions in order to capture more diverse conditions in the sea and different cloud coverage, as well as to identify small vessels from the images. As these objects only cover a couple of pixels, the identification was done by comparing several images and if a potential vessel was not present in all images, it was annotated as long as it covered at least 4 pixels. In total, our dataset contained 8401 annotated marine vessels. The best performing models achieved cross-validation precision of 0.863, recall of 0.841, and mean Average Precision with IoU threshold of 0.5 (mAP50) of 0.867, and test set precision of 0.787, recall of 0.84 and mAP50 of 0.799.\n",
    ">\n",
    ">   The models were then used to evaluate the marine traffic in Archipelago Sea and Gulf of Finland between May and September 2022, using all Sentinel-2 images of sufficient quality (i.e. low cloud coverage) in order to detect and evaluate hotspots of marine traffic, as well as estimate the amount of traffic in different timesteps. The spatiotemporal information drawn from the boat detections supplement existing human pressure datasets by filling the gap in localizing the areas that are in frequent use to small vessels and thus improve the quantification of disturbance from maritime traffic to marine habitats and species. The method is scalable and applicable to other areas as it utilizes openly available satellite images."
   ]
  },
  {
   "cell_type": "markdown",
   "id": "113d7a53-2a17-445c-84a0-2c8c87bd6478",
   "metadata": {},
   "source": [
    "# Demo application"
   ]
  },
  {
   "cell_type": "markdown",
   "id": "334ba199-5af7-418e-9f64-362b66b5ac31",
   "metadata": {},
   "source": [
    "Demo application is running on Huggingface Spaces: [https://huggingface.co/spaces/mayrajeo/marine-vessel-detection](https://huggingface.co/spaces/mayrajeo/marine-vessel-detection). "
   ]
  },
  {
   "cell_type": "markdown",
   "id": "29792e6c",
   "metadata": {},
   "source": [
    "# Authors\n",
    "\n",
    "* Janne Mäyrä, Finnish Environment Institute (Syke)\n",
    "* Ari-Pekka Jokinen, Syke\n",
    "* Joni Koskikala, Marine Conservation, Parks and Wildlife, Finland\n",
    "* Elina A. Virtanen, Syke\n",
    "* Jenni Attila, Syke"
   ]
  },
  {
   "cell_type": "markdown",
   "id": "0de868c8",
   "metadata": {},
   "source": [
    "# Acknowledgments"
   ]
  },
  {
   "cell_type": "markdown",
   "id": "f1f95d77",
   "metadata": {},
   "source": [
    "This work was supported by Enhancing the marine and coastal biodiversity of the Baltic Sea in Finland and promoting the sustainable use of marine resources (BIODIVERSEA LIFE-IP). \r\n",
    "\r\n",
    "The authors wish to acknowledge CSC – IT Center for Science, Finland, for computational resources."
   ]
  }
 ],
 "metadata": {
  "kernelspec": {
   "display_name": "python3",
   "language": "python",
   "name": "python3"
  }
 },
 "nbformat": 4,
 "nbformat_minor": 5
}
