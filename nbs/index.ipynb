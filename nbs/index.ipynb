{
 "cells": [
  {
   "cell_type": "raw",
   "id": "5bd58451",
   "metadata": {},
   "source": [
    "---\n",
    "title: \"Detecting marine vessels from Sentinel-2 imagery using YOLOv8\"\n",
    "author: \"Janne Mäyrä\"\n",
    "date: last-modified\n",
    "format:\n",
    "  html:\n",
    "    code-fold: true\n",
    "    toc: false\n",
    "    toc-depth: 2\n",
    "    number-sections: false\n",
    "    smooth-scroll: true\n",
    "---"
   ]
  },
  {
   "cell_type": "markdown",
   "id": "3e9c2999-5237-4d8f-8454-cd01023cc3b6",
   "metadata": {},
   "source": [
    "# Abstract\n",
    "\n",
    "> Identifying where maritime activities take place, and quantifying their potential impact on marine biodiversity, is important for sustainable management of marine areas, spatial planning and marine conservation. Detection and monitoring of small vessels, such as pleasure crafts, has been challenging due to limited data availability with adequate temporal and spatial resolution. Here, we develop an analysis framework to detect and quantify small vessels, using openly available Sentinel-2 optical imagery, and the YOLO-family object detection models. We also show how existing spatial datasets can be used to improve the quality of the model output.\n",
    "\n",
    "> We chose five distinct marine areas along the Finnish coast in the northern Baltic Sea, and manually annotated 8,768 vessels for training and validating object detection models. The top-performing model, based on F1-score, achieved a test set F1-score of 0.863, and an mAP50 of 0.888. This model was then used to quantify pleasure crafts in the southern part of Finland from May to September 2022, using all available Sentinel-2 images with sufficient image quality. Detected recreational traffic was primarily concentrated on boating lanes and close to marinas, with weekend traffic averaging approximately twice the volume of weekday traffic.\n",
    "\n",
    "> The developed approach can identify areas with high boat traffic, supporting spatial planning, ecological impact avoidance, and serving as an indicator of recreational popularity of marine areas. Additionally, it provides a basis for assessing the potential impacts of pleasure crafts on marine biodiversity. By leveraging openly available satellite images with frequent revisits, the approach offers broad geographical coverage and high spatial accuracy, making it scalable for estimating boat traffic across large areas to support sustainable management and use of marine areas, even globally. "
   ]
  },
  {
   "cell_type": "markdown",
   "id": "cd7b933b",
   "metadata": {},
   "source": [
    "Update to latest version is in progress."
   ]
  },
  {
   "cell_type": "markdown",
   "id": "113d7a53-2a17-445c-84a0-2c8c87bd6478",
   "metadata": {},
   "source": [
    "# Demo application"
   ]
  },
  {
   "cell_type": "markdown",
   "id": "334ba199-5af7-418e-9f64-362b66b5ac31",
   "metadata": {},
   "source": [
    "Demo application is running on Huggingface Spaces: [https://huggingface.co/spaces/mayrajeo/marine-vessel-detection](https://huggingface.co/spaces/mayrajeo/marine-vessel-detection). "
   ]
  },
  {
   "cell_type": "markdown",
   "id": "29792e6c",
   "metadata": {},
   "source": [
    "# Authors\n",
    "\n",
    "* Janne Mäyrä, Finnish Environment Institute (Syke)\n",
    "* Elina A. Virtanen, Syke\n",
    "* Ari-Pekka Jokinen, Syke\n",
    "* Joni Koskikala, Marine Conservation, Parks and Wildlife, Finland\n",
    "* Sakari Väkevä, Syke\n",
    "* Jenni Attila, Syke"
   ]
  },
  {
   "cell_type": "markdown",
   "id": "0de868c8",
   "metadata": {},
   "source": [
    "# Acknowledgments"
   ]
  },
  {
   "cell_type": "markdown",
   "id": "f1f95d77",
   "metadata": {},
   "source": [
    "This study was supported by Enhancing the marine and coastal biodiversity of the Baltic Sea in Finland and promoting the sustainable use of marine resources (LIFE-IP BIODIVERSEA (LIFE20 IPE/FI/000020)).\n",
    "\n",
    "\n",
    "The authors wish to acknowledge CSC – IT Center for Science, Finland, for computational resources."
   ]
  }
 ],
 "metadata": {
  "kernelspec": {
   "display_name": "python3",
   "language": "python",
   "name": "python3"
  }
 },
 "nbformat": 4,
 "nbformat_minor": 5
}
