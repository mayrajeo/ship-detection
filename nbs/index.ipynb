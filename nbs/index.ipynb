{
 "cells": [
  {
   "cell_type": "raw",
   "id": "5bd58451",
   "metadata": {},
   "source": [
    "---\n",
    "title: \"Detecting marine vessels from Sentinel-2 imagery using YOLOv8\"\n",
    "author: \"Janne Mäyrä\"\n",
    "date: last-modified\n",
    "format:\n",
    "  html:\n",
    "    code-fold: true\n",
    "    toc: false\n",
    "    toc-depth: 2\n",
    "    number-sections: false\n",
    "    smooth-scroll: true\n",
    "---"
   ]
  },
  {
   "cell_type": "markdown",
   "id": "1ee9a19e",
   "metadata": {},
   "source": [
    "# Abstract\n",
    "\n",
    "> Insert abstract here"
   ]
  },
  {
   "cell_type": "markdown",
   "id": "29792e6c",
   "metadata": {},
   "source": [
    "# Authors\n",
    "\n",
    "List authors and their information here"
   ]
  },
  {
   "cell_type": "markdown",
   "id": "0de868c8",
   "metadata": {},
   "source": [
    "# Acknowledgments"
   ]
  },
  {
   "cell_type": "markdown",
   "id": "f1f95d77",
   "metadata": {},
   "source": [
    "Insert acknowledgments"
   ]
  }
 ],
 "metadata": {
  "kernelspec": {
   "display_name": "Python 3 (ipykernel)",
   "language": "python",
   "name": "python3"
  },
  "language_info": {
   "codemirror_mode": {
    "name": "ipython",
    "version": 3
   },
   "file_extension": ".py",
   "mimetype": "text/x-python",
   "name": "python",
   "nbconvert_exporter": "python",
   "pygments_lexer": "ipython3",
   "version": "3.10.10"
  }
 },
 "nbformat": 4,
 "nbformat_minor": 5
}
