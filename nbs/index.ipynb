{
 "cells": [
  {
   "cell_type": "raw",
   "id": "5bd58451",
   "metadata": {},
   "source": [
    "---\n",
    "title: \"Detecting marine vessels from Sentinel-2 imagery using YOLOv8\"\n",
    "author: \"Janne Mäyrä\"\n",
    "date: last-modified\n",
    "format:\n",
    "  html:\n",
    "    code-fold: true\n",
    "    toc: false\n",
    "    toc-depth: 2\n",
    "    number-sections: false\n",
    "    smooth-scroll: true\n",
    "---"
   ]
  },
  {
   "cell_type": "markdown",
   "id": "3e9c2999-5237-4d8f-8454-cd01023cc3b6",
   "metadata": {},
   "source": [
    "# Abstract\n",
    "\n",
    "> Identifying maritime human activities is important for sustainable management and use of marine areas, with applications in marine spatial planning and area-based conservation. Detection and monitoring of small-sized vessels, such as leisure boats, has been hampered by the availability of data with adequate temporal and spatial resolution. Commercial maritime traffic can be quantified and localized via their automatic identification system (AIS), but in smaller vessels AIS is not mandatory. Small vessels can enter shallow areas, and potentially cause disturbance to underwater marine nature. For instance, anchoring, mooring or wakes from propellers, can directly cause the loss of habitats, and indirectly other effects, such as resuspension of sediments and the release of harmful substances. Here, we leverage the openly available Sentinel-2 series optical imagery and object detection method YOLOv8, to identify and quantify small-sized vessels in the optically complex waters of the Finnish marine areas in the northern Baltic Sea. We develop an analysis framework that can be upscaled for monitoring small-sized vessels for sustainable management of marine areas.\n",
    "\n",
    "> We chose five locations with differences in popularity of areas for recreational activities, and in characteristics of marine area in question. We manually annotated 7807 vessels for training and testing the object detection model, YOLOv8. Three acquisitions were used for each location to capture different sea conditions and cloud coverage. The best performing models achieved cross-validation precision of 0.863, recall of 0.841, and mean Average Precision with IoU threshold of 0.5 (mAP50) of 0.867, and test set precision of 0.858, recall of 0.87 and mAP50 of 0.814. The models were then used to quantify small vessel traffic in the southern part of Finland between May and September 2022, using all Sentinel-2 images of sufficient quality (i.e. low cloud coverage). \n",
    "\n",
    "> The developed data can be used to identify frequently visited areas, i.e. popularity of areas, to quantify the potential disturbance caused by small-sized vessels. The data may also be useful for marine spatial planning, in developing areas for certain use, such as for tourism, or in impact avoidance in conflicting situations. The method is scalable and applicable to other areas as it utilizes openly available satellite images.    "
   ]
  },
  {
   "cell_type": "markdown",
   "id": "113d7a53-2a17-445c-84a0-2c8c87bd6478",
   "metadata": {},
   "source": [
    "# Demo application"
   ]
  },
  {
   "cell_type": "markdown",
   "id": "334ba199-5af7-418e-9f64-362b66b5ac31",
   "metadata": {},
   "source": [
    "Demo application is running on Huggingface Spaces: [https://huggingface.co/spaces/mayrajeo/marine-vessel-detection](https://huggingface.co/spaces/mayrajeo/marine-vessel-detection). "
   ]
  },
  {
   "cell_type": "markdown",
   "id": "29792e6c",
   "metadata": {},
   "source": [
    "# Authors\n",
    "\n",
    "* Janne Mäyrä, Finnish Environment Institute (Syke)\n",
    "* Elina A. Virtanen, Syke\n",
    "* Ari-Pekka Jokinen, Syke\n",
    "* Joni Koskikala, Marine Conservation, Parks and Wildlife, Finland\n",
    "* Sakari Väkevä, Syke\n",
    "* Jenni Attila, Syke"
   ]
  },
  {
   "cell_type": "markdown",
   "id": "0de868c8",
   "metadata": {},
   "source": [
    "# Acknowledgments"
   ]
  },
  {
   "cell_type": "markdown",
   "id": "f1f95d77",
   "metadata": {},
   "source": [
    "This study was supported by Enhancing the marine and coastal biodiversity of the Baltic Sea in Finland and promoting the sustainable use of marine resources (LIFE-IP BIODIVERSEA (LIFE20 IPE/FI/000020)).\n",
    "\n",
    "\r\n",
    "The authors wish to acknowledge CSC – IT Center for Science, Finland, for computational resources."
   ]
  }
 ],
 "metadata": {
  "kernelspec": {
   "display_name": "python3",
   "language": "python",
   "name": "python3"
  }
 },
 "nbformat": 4,
 "nbformat_minor": 5
}
